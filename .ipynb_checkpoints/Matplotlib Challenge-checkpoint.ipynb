{
 "cells": [
  {
   "cell_type": "code",
   "execution_count": 1,
   "id": "f4f6dbc5",
   "metadata": {},
   "outputs": [],
   "source": [
    "# import dependencies\n",
    "%matplotlib notebook\n",
    "\n",
    "import pandas as pd\n",
    "import numpy as np\n",
    "import matplotlib.pyplot as plt    "
   ]
  },
  {
   "cell_type": "code",
   "execution_count": 2,
   "id": "db1df744",
   "metadata": {},
   "outputs": [],
   "source": [
    "# read in csv\n",
    "mouse_file = \"../../Downloads/WorkingDirectory/gt-virt-data-pt-12-2021-u-c/05-Matplotlib/Homework/Instructions/Pymaceuticals/data/Mouse_metadata.csv\"\n",
    "study_file = \"../../Downloads/WorkingDirectory/gt-virt-data-pt-12-2021-u-c/05-Matplotlib/Homework/Instructions/Pymaceuticals/data/Study_results.csv\"\n",
    "\n",
    "mouse_master = pd.read_csv(mouse_file)\n",
    "study_master = pd.read_csv(study_file)\n"
   ]
  },
  {
   "cell_type": "code",
   "execution_count": 26,
   "id": "0672c203",
   "metadata": {},
   "outputs": [
    {
     "data": {
      "text/plain": [
       "Index(['Mouse ID', 'Drug Regimen', 'Sex', 'Age_months', 'Weight (g)'], dtype='object')"
      ]
     },
     "execution_count": 26,
     "metadata": {},
     "output_type": "execute_result"
    }
   ],
   "source": [
    "# view mouse columns\n",
    "mouse_master.columns"
   ]
  },
  {
   "cell_type": "code",
   "execution_count": 27,
   "id": "9464aaf4",
   "metadata": {},
   "outputs": [
    {
     "data": {
      "text/html": [
       "<div>\n",
       "<style scoped>\n",
       "    .dataframe tbody tr th:only-of-type {\n",
       "        vertical-align: middle;\n",
       "    }\n",
       "\n",
       "    .dataframe tbody tr th {\n",
       "        vertical-align: top;\n",
       "    }\n",
       "\n",
       "    .dataframe thead th {\n",
       "        text-align: right;\n",
       "    }\n",
       "</style>\n",
       "<table border=\"1\" class=\"dataframe\">\n",
       "  <thead>\n",
       "    <tr style=\"text-align: right;\">\n",
       "      <th></th>\n",
       "      <th>Mouse ID</th>\n",
       "      <th>Drug Regimen</th>\n",
       "      <th>Sex</th>\n",
       "      <th>Age_months</th>\n",
       "      <th>Weight (g)</th>\n",
       "    </tr>\n",
       "  </thead>\n",
       "  <tbody>\n",
       "    <tr>\n",
       "      <th>0</th>\n",
       "      <td>k403</td>\n",
       "      <td>Ramicane</td>\n",
       "      <td>Male</td>\n",
       "      <td>21</td>\n",
       "      <td>16</td>\n",
       "    </tr>\n",
       "    <tr>\n",
       "      <th>1</th>\n",
       "      <td>s185</td>\n",
       "      <td>Capomulin</td>\n",
       "      <td>Female</td>\n",
       "      <td>3</td>\n",
       "      <td>17</td>\n",
       "    </tr>\n",
       "    <tr>\n",
       "      <th>2</th>\n",
       "      <td>x401</td>\n",
       "      <td>Capomulin</td>\n",
       "      <td>Female</td>\n",
       "      <td>16</td>\n",
       "      <td>15</td>\n",
       "    </tr>\n",
       "    <tr>\n",
       "      <th>3</th>\n",
       "      <td>m601</td>\n",
       "      <td>Capomulin</td>\n",
       "      <td>Male</td>\n",
       "      <td>22</td>\n",
       "      <td>17</td>\n",
       "    </tr>\n",
       "    <tr>\n",
       "      <th>4</th>\n",
       "      <td>g791</td>\n",
       "      <td>Ramicane</td>\n",
       "      <td>Male</td>\n",
       "      <td>11</td>\n",
       "      <td>16</td>\n",
       "    </tr>\n",
       "  </tbody>\n",
       "</table>\n",
       "</div>"
      ],
      "text/plain": [
       "  Mouse ID Drug Regimen     Sex  Age_months  Weight (g)\n",
       "0     k403     Ramicane    Male          21          16\n",
       "1     s185    Capomulin  Female           3          17\n",
       "2     x401    Capomulin  Female          16          15\n",
       "3     m601    Capomulin    Male          22          17\n",
       "4     g791     Ramicane    Male          11          16"
      ]
     },
     "execution_count": 27,
     "metadata": {},
     "output_type": "execute_result"
    }
   ],
   "source": [
    "# view mouse data\n",
    "mouse_master.head()"
   ]
  },
  {
   "cell_type": "code",
   "execution_count": 28,
   "id": "f786cb0e",
   "metadata": {},
   "outputs": [
    {
     "data": {
      "text/plain": [
       "Index(['Mouse ID', 'Timepoint', 'Tumor Volume (mm3)', 'Metastatic Sites'], dtype='object')"
      ]
     },
     "execution_count": 28,
     "metadata": {},
     "output_type": "execute_result"
    }
   ],
   "source": [
    "# view study columns\n",
    "study_master.columns"
   ]
  },
  {
   "cell_type": "code",
   "execution_count": 29,
   "id": "5a4049e4",
   "metadata": {},
   "outputs": [
    {
     "data": {
      "text/html": [
       "<div>\n",
       "<style scoped>\n",
       "    .dataframe tbody tr th:only-of-type {\n",
       "        vertical-align: middle;\n",
       "    }\n",
       "\n",
       "    .dataframe tbody tr th {\n",
       "        vertical-align: top;\n",
       "    }\n",
       "\n",
       "    .dataframe thead th {\n",
       "        text-align: right;\n",
       "    }\n",
       "</style>\n",
       "<table border=\"1\" class=\"dataframe\">\n",
       "  <thead>\n",
       "    <tr style=\"text-align: right;\">\n",
       "      <th></th>\n",
       "      <th>Mouse ID</th>\n",
       "      <th>Timepoint</th>\n",
       "      <th>Tumor Volume (mm3)</th>\n",
       "      <th>Metastatic Sites</th>\n",
       "    </tr>\n",
       "  </thead>\n",
       "  <tbody>\n",
       "    <tr>\n",
       "      <th>0</th>\n",
       "      <td>b128</td>\n",
       "      <td>0</td>\n",
       "      <td>45.0</td>\n",
       "      <td>0</td>\n",
       "    </tr>\n",
       "    <tr>\n",
       "      <th>1</th>\n",
       "      <td>f932</td>\n",
       "      <td>0</td>\n",
       "      <td>45.0</td>\n",
       "      <td>0</td>\n",
       "    </tr>\n",
       "    <tr>\n",
       "      <th>2</th>\n",
       "      <td>g107</td>\n",
       "      <td>0</td>\n",
       "      <td>45.0</td>\n",
       "      <td>0</td>\n",
       "    </tr>\n",
       "    <tr>\n",
       "      <th>3</th>\n",
       "      <td>a457</td>\n",
       "      <td>0</td>\n",
       "      <td>45.0</td>\n",
       "      <td>0</td>\n",
       "    </tr>\n",
       "    <tr>\n",
       "      <th>4</th>\n",
       "      <td>c819</td>\n",
       "      <td>0</td>\n",
       "      <td>45.0</td>\n",
       "      <td>0</td>\n",
       "    </tr>\n",
       "  </tbody>\n",
       "</table>\n",
       "</div>"
      ],
      "text/plain": [
       "  Mouse ID  Timepoint  Tumor Volume (mm3)  Metastatic Sites\n",
       "0     b128          0                45.0                 0\n",
       "1     f932          0                45.0                 0\n",
       "2     g107          0                45.0                 0\n",
       "3     a457          0                45.0                 0\n",
       "4     c819          0                45.0                 0"
      ]
     },
     "execution_count": 29,
     "metadata": {},
     "output_type": "execute_result"
    }
   ],
   "source": [
    "# view study data\n",
    "study_master.head()"
   ]
  },
  {
   "cell_type": "code",
   "execution_count": 30,
   "id": "5c40448c",
   "metadata": {},
   "outputs": [
    {
     "data": {
      "text/plain": [
       "Mouse ID        249\n",
       "Drug Regimen    249\n",
       "Sex             249\n",
       "Age_months      249\n",
       "Weight (g)      249\n",
       "dtype: int64"
      ]
     },
     "execution_count": 30,
     "metadata": {},
     "output_type": "execute_result"
    }
   ],
   "source": [
    "mouse_master.count()"
   ]
  },
  {
   "cell_type": "code",
   "execution_count": 31,
   "id": "5897341c",
   "metadata": {},
   "outputs": [
    {
     "data": {
      "text/plain": [
       "249"
      ]
     },
     "execution_count": 31,
     "metadata": {},
     "output_type": "execute_result"
    }
   ],
   "source": [
    "# count number unique mice in the mouse file\n",
    "mouse_master[\"Mouse ID\"].nunique()"
   ]
  },
  {
   "cell_type": "code",
   "execution_count": 32,
   "id": "d3a0db9a",
   "metadata": {},
   "outputs": [
    {
     "data": {
      "text/plain": [
       "Mouse ID              1893\n",
       "Timepoint             1893\n",
       "Tumor Volume (mm3)    1893\n",
       "Metastatic Sites      1893\n",
       "dtype: int64"
      ]
     },
     "execution_count": 32,
     "metadata": {},
     "output_type": "execute_result"
    }
   ],
   "source": [
    "study_master.count()"
   ]
  },
  {
   "cell_type": "code",
   "execution_count": 33,
   "id": "969f25b4",
   "metadata": {},
   "outputs": [
    {
     "data": {
      "text/plain": [
       "249"
      ]
     },
     "execution_count": 33,
     "metadata": {},
     "output_type": "execute_result"
    }
   ],
   "source": [
    "# count number unique mice in the study file\n",
    "study_master[\"Mouse ID\"].nunique()"
   ]
  },
  {
   "cell_type": "code",
   "execution_count": 11,
   "id": "1bb20bfc",
   "metadata": {},
   "outputs": [],
   "source": [
    "# count null values in each column\n",
    "\n",
    "# null[\"null count\"] = study_master[\"Timepoint\"].isna().sum()\n",
    "# null\n",
    "\n",
    "# def null_cnt(df_input, column_input, column_output):\n",
    "#     df_input[column_output] = df_input[column_input].isna().sum()\n",
    "#     return df_input[column_output]\n",
    "\n",
    "# null_cnt(study_master, \"Timepoint\", \"null\")"
   ]
  },
  {
   "cell_type": "code",
   "execution_count": 12,
   "id": "15f337c0",
   "metadata": {},
   "outputs": [
    {
     "name": "stdout",
     "output_type": "stream",
     "text": [
      "The number of null values:\n",
      "study_master -- Timepoint: 0\n",
      "study_master -- Tumor Volume (mm3): 0\n",
      "study_master -- Metastatic Sites: 0\n",
      "mouse_master -- Drug Regimen: 0\n",
      "mouse_master -- Sex: 0\n",
      "mouse_master -- Age_months: 0\n",
      "mouse_master -- Weight (g): 0\n"
     ]
    }
   ],
   "source": [
    "#calculate the number of null values for each column\n",
    "print(\"The number of null values:\")\n",
    "\n",
    "def print_null_msg(df_input, textdf, textfeature, column_output):\n",
    "    return print(f\"{textdf} -- {textfeature}: {df_input[textfeature].isna().sum().sum()}\")\n",
    "\n",
    "print_null_msg(study_master, \"study_master\", \"Timepoint\", \"null count\")\n",
    "print_null_msg(study_master, \"study_master\", \"Tumor Volume (mm3)\", \"null count\")\n",
    "print_null_msg(study_master, \"study_master\", \"Metastatic Sites\", \"null count\")\n",
    "print_null_msg(mouse_master, \"mouse_master\", \"Drug Regimen\", \"null count\")\n",
    "print_null_msg(mouse_master, \"mouse_master\", \"Sex\", \"null count\")\n",
    "print_null_msg(mouse_master, \"mouse_master\", \"Age_months\", \"null count\")\n",
    "print_null_msg(mouse_master, \"mouse_master\", \"Weight (g)\", \"null count\")"
   ]
  },
  {
   "cell_type": "code",
   "execution_count": 47,
   "id": "8c2bc9e8",
   "metadata": {},
   "outputs": [
    {
     "data": {
      "text/plain": [
       "Mouse ID              1893\n",
       "Drug Regimen          1893\n",
       "Sex                   1893\n",
       "Age_months            1893\n",
       "Weight (g)            1893\n",
       "Timepoint             1893\n",
       "Tumor Volume (mm3)    1893\n",
       "Metastatic Sites      1893\n",
       "dtype: int64"
      ]
     },
     "execution_count": 47,
     "metadata": {},
     "output_type": "execute_result"
    }
   ],
   "source": [
    "# left merge study to mouse_master, mouse_master, how = \"left\", on = \"Mouse ID\")\n",
    "mouse_combined = pd.merge(mouse_master, study_master, how = \"outer\", on = \"Mouse ID\")\n",
    "mouse_combined.count()"
   ]
  },
  {
   "cell_type": "code",
   "execution_count": 42,
   "id": "a074b6f9",
   "metadata": {},
   "outputs": [
    {
     "data": {
      "text/html": [
       "<div>\n",
       "<style scoped>\n",
       "    .dataframe tbody tr th:only-of-type {\n",
       "        vertical-align: middle;\n",
       "    }\n",
       "\n",
       "    .dataframe tbody tr th {\n",
       "        vertical-align: top;\n",
       "    }\n",
       "\n",
       "    .dataframe thead th {\n",
       "        text-align: right;\n",
       "    }\n",
       "</style>\n",
       "<table border=\"1\" class=\"dataframe\">\n",
       "  <thead>\n",
       "    <tr style=\"text-align: right;\">\n",
       "      <th></th>\n",
       "      <th>Unique Mice</th>\n",
       "    </tr>\n",
       "  </thead>\n",
       "  <tbody>\n",
       "    <tr>\n",
       "      <th>0</th>\n",
       "      <td>249</td>\n",
       "    </tr>\n",
       "  </tbody>\n",
       "</table>\n",
       "</div>"
      ],
      "text/plain": [
       "   Unique Mice\n",
       "0          249"
      ]
     },
     "execution_count": 42,
     "metadata": {},
     "output_type": "execute_result"
    }
   ],
   "source": [
    "# calculate the number of mice\n",
    "unique_mice = mouse_combined[\"Mouse ID\"].nunique()\n",
    "unique_cnt_df = pd.DataFrame([unique_mice]).rename(columns = {0: \"Unique Mice\"})\n",
    "unique_cnt_df"
   ]
  },
  {
   "cell_type": "code",
   "execution_count": 48,
   "id": "0e9bc0d4",
   "metadata": {},
   "outputs": [],
   "source": [
    "# id duplicate Mouse ID at Timepoint level\n",
    "mouse_combined[\"dupkey\"] = mouse_combined[\"Mouse ID\"] + str(mouse_combined[\"Timepoint\"])\n",
    "# mouse_combined.sort_values(\"dupkey\", inplace = True)\n",
    "# duplicate_series = mouse_combined[\"dupkey\"].duplicated()\n",
    "# mouse_combined[duplicate_series]"
   ]
  },
  {
   "cell_type": "code",
   "execution_count": 53,
   "id": "f753813b",
   "metadata": {},
   "outputs": [
    {
     "data": {
      "text/html": [
       "<div>\n",
       "<style scoped>\n",
       "    .dataframe tbody tr th:only-of-type {\n",
       "        vertical-align: middle;\n",
       "    }\n",
       "\n",
       "    .dataframe tbody tr th {\n",
       "        vertical-align: top;\n",
       "    }\n",
       "\n",
       "    .dataframe thead th {\n",
       "        text-align: right;\n",
       "    }\n",
       "</style>\n",
       "<table border=\"1\" class=\"dataframe\">\n",
       "  <thead>\n",
       "    <tr style=\"text-align: right;\">\n",
       "      <th></th>\n",
       "      <th>Mouse ID</th>\n",
       "      <th>Drug Regimen</th>\n",
       "      <th>Sex</th>\n",
       "      <th>Age_months</th>\n",
       "      <th>Weight (g)</th>\n",
       "      <th>Timepoint</th>\n",
       "      <th>Tumor Volume (mm3)</th>\n",
       "      <th>Metastatic Sites</th>\n",
       "      <th>dupkey</th>\n",
       "    </tr>\n",
       "  </thead>\n",
       "  <tbody>\n",
       "    <tr>\n",
       "      <th>0</th>\n",
       "      <td>k403</td>\n",
       "      <td>Ramicane</td>\n",
       "      <td>Male</td>\n",
       "      <td>21</td>\n",
       "      <td>16</td>\n",
       "      <td>0</td>\n",
       "      <td>45.000000</td>\n",
       "      <td>0</td>\n",
       "      <td>k4030        0\\n1        5\\n2       10\\n3     ...</td>\n",
       "    </tr>\n",
       "    <tr>\n",
       "      <th>1</th>\n",
       "      <td>k403</td>\n",
       "      <td>Ramicane</td>\n",
       "      <td>Male</td>\n",
       "      <td>21</td>\n",
       "      <td>16</td>\n",
       "      <td>5</td>\n",
       "      <td>38.825898</td>\n",
       "      <td>0</td>\n",
       "      <td>k4030        0\\n1        5\\n2       10\\n3     ...</td>\n",
       "    </tr>\n",
       "    <tr>\n",
       "      <th>2</th>\n",
       "      <td>k403</td>\n",
       "      <td>Ramicane</td>\n",
       "      <td>Male</td>\n",
       "      <td>21</td>\n",
       "      <td>16</td>\n",
       "      <td>10</td>\n",
       "      <td>35.014271</td>\n",
       "      <td>1</td>\n",
       "      <td>k4030        0\\n1        5\\n2       10\\n3     ...</td>\n",
       "    </tr>\n",
       "    <tr>\n",
       "      <th>3</th>\n",
       "      <td>k403</td>\n",
       "      <td>Ramicane</td>\n",
       "      <td>Male</td>\n",
       "      <td>21</td>\n",
       "      <td>16</td>\n",
       "      <td>15</td>\n",
       "      <td>34.223992</td>\n",
       "      <td>1</td>\n",
       "      <td>k4030        0\\n1        5\\n2       10\\n3     ...</td>\n",
       "    </tr>\n",
       "    <tr>\n",
       "      <th>4</th>\n",
       "      <td>k403</td>\n",
       "      <td>Ramicane</td>\n",
       "      <td>Male</td>\n",
       "      <td>21</td>\n",
       "      <td>16</td>\n",
       "      <td>20</td>\n",
       "      <td>32.997729</td>\n",
       "      <td>1</td>\n",
       "      <td>k4030        0\\n1        5\\n2       10\\n3     ...</td>\n",
       "    </tr>\n",
       "  </tbody>\n",
       "</table>\n",
       "</div>"
      ],
      "text/plain": [
       "  Mouse ID Drug Regimen   Sex  Age_months  Weight (g)  Timepoint  \\\n",
       "0     k403     Ramicane  Male          21          16          0   \n",
       "1     k403     Ramicane  Male          21          16          5   \n",
       "2     k403     Ramicane  Male          21          16         10   \n",
       "3     k403     Ramicane  Male          21          16         15   \n",
       "4     k403     Ramicane  Male          21          16         20   \n",
       "\n",
       "   Tumor Volume (mm3)  Metastatic Sites  \\\n",
       "0           45.000000                 0   \n",
       "1           38.825898                 0   \n",
       "2           35.014271                 1   \n",
       "3           34.223992                 1   \n",
       "4           32.997729                 1   \n",
       "\n",
       "                                              dupkey  \n",
       "0  k4030        0\\n1        5\\n2       10\\n3     ...  \n",
       "1  k4030        0\\n1        5\\n2       10\\n3     ...  \n",
       "2  k4030        0\\n1        5\\n2       10\\n3     ...  \n",
       "3  k4030        0\\n1        5\\n2       10\\n3     ...  \n",
       "4  k4030        0\\n1        5\\n2       10\\n3     ...  "
      ]
     },
     "execution_count": 53,
     "metadata": {},
     "output_type": "execute_result"
    }
   ],
   "source": [
    "mouse_combined.head()"
   ]
  },
  {
   "cell_type": "code",
   "execution_count": null,
   "id": "2f4aa93b",
   "metadata": {},
   "outputs": [],
   "source": []
  }
 ],
 "metadata": {
  "kernelspec": {
   "display_name": "pythondata",
   "language": "python",
   "name": "pythondata"
  },
  "language_info": {
   "codemirror_mode": {
    "name": "ipython",
    "version": 3
   },
   "file_extension": ".py",
   "mimetype": "text/x-python",
   "name": "python",
   "nbconvert_exporter": "python",
   "pygments_lexer": "ipython3",
   "version": "3.8.12"
  }
 },
 "nbformat": 4,
 "nbformat_minor": 5
}
